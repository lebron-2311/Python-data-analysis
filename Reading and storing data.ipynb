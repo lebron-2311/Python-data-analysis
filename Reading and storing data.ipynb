{
 "cells": [
  {
   "cell_type": "code",
   "execution_count": 7,
   "id": "initial_id",
   "metadata": {
    "collapsed": true,
    "ExecuteTime": {
     "end_time": "2023-12-13T03:24:54.598337Z",
     "start_time": "2023-12-13T03:24:54.444381Z"
    }
   },
   "outputs": [],
   "source": [
    "import  numpy as np\n",
    "c=np.array([[1,2,3,4],[4,5,6,7],[np.nan,8,9,10]])\n",
    "np.save('save_1.npy',c)#保存为save_1.npy文件"
   ]
  },
  {
   "cell_type": "markdown",
   "source": [
    "#保存为save_1.npy文件"
   ],
   "metadata": {
    "collapsed": false
   },
   "id": "6bfcb5dfe05f63e2"
  },
  {
   "cell_type": "code",
   "execution_count": 8,
   "outputs": [],
   "source": [
    "f=np.load('save_1.npy')"
   ],
   "metadata": {
    "collapsed": false,
    "ExecuteTime": {
     "end_time": "2023-12-13T03:24:54.674572Z",
     "start_time": "2023-12-13T03:24:54.453951Z"
    }
   },
   "id": "90c15eb8ea99a00a"
  },
  {
   "cell_type": "code",
   "execution_count": 9,
   "outputs": [
    {
     "data": {
      "text/plain": "array([[ 1.,  2.,  3.,  4.],\n       [ 4.,  5.,  6.,  7.],\n       [nan,  8.,  9., 10.]])"
     },
     "execution_count": 9,
     "metadata": {},
     "output_type": "execute_result"
    }
   ],
   "source": [
    "f"
   ],
   "metadata": {
    "collapsed": false,
    "ExecuteTime": {
     "end_time": "2023-12-13T03:24:54.677111Z",
     "start_time": "2023-12-13T03:24:54.459372Z"
    }
   },
   "id": "1a6d4f378f21880"
  },
  {
   "cell_type": "code",
   "execution_count": 10,
   "outputs": [
    {
     "ename": "FileNotFoundError",
     "evalue": "[Errno 2] No such file or directory: 'save_2.npy'",
     "output_type": "error",
     "traceback": [
      "\u001B[0;31m---------------------------------------------------------------------------\u001B[0m",
      "\u001B[0;31mFileNotFoundError\u001B[0m                         Traceback (most recent call last)",
      "Cell \u001B[0;32mIn[10], line 5\u001B[0m\n\u001B[1;32m      2\u001B[0m a\u001B[38;5;241m=\u001B[39mnp\u001B[38;5;241m.\u001B[39marray([[\u001B[38;5;241m1\u001B[39m,\u001B[38;5;241m3\u001B[39m],[\u001B[38;5;241m4\u001B[39m,\u001B[38;5;241m2\u001B[39m],[\u001B[38;5;241m8\u001B[39m,\u001B[38;5;241m6\u001B[39m]])\n\u001B[1;32m      3\u001B[0m np\u001B[38;5;241m.\u001B[39msavez(\u001B[38;5;124m'\u001B[39m\u001B[38;5;124msave_2.npz\u001B[39m\u001B[38;5;124m'\u001B[39m,a,c)\n\u001B[0;32m----> 5\u001B[0m f\u001B[38;5;241m=\u001B[39mnp\u001B[38;5;241m.\u001B[39mload(\u001B[38;5;124m'\u001B[39m\u001B[38;5;124msave_2.npy\u001B[39m\u001B[38;5;124m'\u001B[39m)\n",
      "File \u001B[0;32m~/anaconda3/lib/python3.11/site-packages/numpy/lib/npyio.py:405\u001B[0m, in \u001B[0;36mload\u001B[0;34m(file, mmap_mode, allow_pickle, fix_imports, encoding, max_header_size)\u001B[0m\n\u001B[1;32m    403\u001B[0m     own_fid \u001B[38;5;241m=\u001B[39m \u001B[38;5;28;01mFalse\u001B[39;00m\n\u001B[1;32m    404\u001B[0m \u001B[38;5;28;01melse\u001B[39;00m:\n\u001B[0;32m--> 405\u001B[0m     fid \u001B[38;5;241m=\u001B[39m stack\u001B[38;5;241m.\u001B[39menter_context(\u001B[38;5;28mopen\u001B[39m(os_fspath(file), \u001B[38;5;124m\"\u001B[39m\u001B[38;5;124mrb\u001B[39m\u001B[38;5;124m\"\u001B[39m))\n\u001B[1;32m    406\u001B[0m     own_fid \u001B[38;5;241m=\u001B[39m \u001B[38;5;28;01mTrue\u001B[39;00m\n\u001B[1;32m    408\u001B[0m \u001B[38;5;66;03m# Code to distinguish from NumPy binary files and pickles.\u001B[39;00m\n",
      "\u001B[0;31mFileNotFoundError\u001B[0m: [Errno 2] No such file or directory: 'save_2.npy'"
     ]
    }
   ],
   "source": [
    "c=np.array([[1,2,3,4],[4,5,6,7],[np.nan,8,9,10]])\n",
    "a=np.array([[1,3],[4,2],[8,6]])\n",
    "np.savez('save_2.npz',a,c)\n",
    "\n",
    "f=np.load('save_2.npy')"
   ],
   "metadata": {
    "collapsed": false,
    "ExecuteTime": {
     "end_time": "2023-12-13T03:24:54.690677Z",
     "start_time": "2023-12-13T03:24:54.461069Z"
    }
   },
   "id": "c899d7db5b479123"
  },
  {
   "cell_type": "code",
   "execution_count": 11,
   "outputs": [
    {
     "name": "stdout",
     "output_type": "stream",
     "text": [
      "[[1 3]\n",
      " [4 2]\n",
      " [8 6]]\n",
      "[[ 1.  2.  3.  4.]\n",
      " [ 4.  5.  6.  7.]\n",
      " [nan  8.  9. 10.]]\n"
     ]
    }
   ],
   "source": [
    "import numpy as np\n",
    "\n",
    "c = np.array([[1, 2, 3, 4], [4, 5, 6, 7], [np.nan, 8, 9, 10]])\n",
    "a = np.array([[1, 3], [4, 2], [8, 6]])\n",
    "\n",
    "np.savez('save_2.npz', a=a, c=c)\n",
    "\n",
    "data = np.load('save_2.npz')\n",
    "\n",
    "a_loaded = data['a']\n",
    "c_loaded = data['c']\n",
    "\n",
    "print(a_loaded)\n",
    "print(c_loaded)"
   ],
   "metadata": {
    "collapsed": false,
    "ExecuteTime": {
     "end_time": "2023-12-13T03:24:58.232234Z",
     "start_time": "2023-12-13T03:24:58.195079Z"
    }
   },
   "id": "95ad63cde1a0d0e2"
  },
  {
   "cell_type": "code",
   "execution_count": 13,
   "outputs": [
    {
     "data": {
      "text/plain": "array([[1, 3],\n       [4, 2],\n       [8, 6]])"
     },
     "execution_count": 13,
     "metadata": {},
     "output_type": "execute_result"
    }
   ],
   "source": [
    "data\n",
    "data['a']"
   ],
   "metadata": {
    "collapsed": false,
    "ExecuteTime": {
     "end_time": "2023-12-13T03:25:46.224419Z",
     "start_time": "2023-12-13T03:25:46.215407Z"
    }
   },
   "id": "589e8c1e553816a8"
  },
  {
   "cell_type": "code",
   "execution_count": 14,
   "outputs": [],
   "source": [
    "import numpy as np\n",
    "\n",
    "c = np.array([[1, 2, 3, 4], [4, 5, 6, 7], [np.nan, 8, 9, 10]])\n",
    "a = np.array([[1, 3], [4, 2], [8, 6]])\n",
    "\n",
    "np.savetxt('save_text.out',c)"
   ],
   "metadata": {
    "collapsed": false,
    "ExecuteTime": {
     "end_time": "2023-12-13T03:34:28.149668Z",
     "start_time": "2023-12-13T03:34:28.116645Z"
    }
   },
   "id": "752206f510efea2a"
  },
  {
   "cell_type": "code",
   "execution_count": 15,
   "outputs": [
    {
     "data": {
      "text/plain": "array([[ 1.,  2.,  3.,  4.],\n       [ 4.,  5.,  6.,  7.],\n       [nan,  8.,  9., 10.]])"
     },
     "execution_count": 15,
     "metadata": {},
     "output_type": "execute_result"
    }
   ],
   "source": [
    "np.loadtxt('save_text.out')"
   ],
   "metadata": {
    "collapsed": false,
    "ExecuteTime": {
     "end_time": "2023-12-13T03:35:14.937856Z",
     "start_time": "2023-12-13T03:35:14.879865Z"
    }
   },
   "id": "74665c6543b470b0"
  },
  {
   "cell_type": "markdown",
   "source": [
    "三行两列两个"
   ],
   "metadata": {
    "collapsed": false
   },
   "id": "6b04ec871babda48"
  },
  {
   "cell_type": "code",
   "execution_count": 16,
   "outputs": [
    {
     "name": "stdout",
     "output_type": "stream",
     "text": [
      "[[[ 1.  2.]\n",
      "  [ 3.  4.]\n",
      "  [ 4.  5.]]\n",
      "\n",
      " [[ 6.  7.]\n",
      "  [nan  8.]\n",
      "  [ 9. 10.]]]\n"
     ]
    }
   ],
   "source": [
    "d=c.reshape((2,3,2))#三行两列两个\n",
    "print(d)"
   ],
   "metadata": {
    "collapsed": false,
    "ExecuteTime": {
     "end_time": "2023-12-13T03:36:36.134344Z",
     "start_time": "2023-12-13T03:36:36.110955Z"
    }
   },
   "id": "5b2f8287b1395f25"
  },
  {
   "cell_type": "markdown",
   "source": [
    "CSV文件只能存储一维数组和二维数组\n",
    "np.savetxt()和 np.loadtxt()方法只能存取一维数组和二维数组"
   ],
   "metadata": {
    "collapsed": false
   },
   "id": "d8b926928d5d01ed"
  },
  {
   "cell_type": "code",
   "execution_count": 17,
   "outputs": [
    {
     "ename": "ValueError",
     "evalue": "Expected 1D or 2D array, got 3D array instead",
     "output_type": "error",
     "traceback": [
      "\u001B[0;31m---------------------------------------------------------------------------\u001B[0m",
      "\u001B[0;31mValueError\u001B[0m                                Traceback (most recent call last)",
      "Cell \u001B[0;32mIn[17], line 1\u001B[0m\n\u001B[0;32m----> 1\u001B[0m np\u001B[38;5;241m.\u001B[39msavetxt(\u001B[38;5;124m'\u001B[39m\u001B[38;5;124msave_text.out\u001B[39m\u001B[38;5;124m'\u001B[39m,d)\n",
      "File \u001B[0;32m<__array_function__ internals>:200\u001B[0m, in \u001B[0;36msavetxt\u001B[0;34m(*args, **kwargs)\u001B[0m\n",
      "File \u001B[0;32m~/anaconda3/lib/python3.11/site-packages/numpy/lib/npyio.py:1555\u001B[0m, in \u001B[0;36msavetxt\u001B[0;34m(fname, X, fmt, delimiter, newline, header, footer, comments, encoding)\u001B[0m\n\u001B[1;32m   1553\u001B[0m \u001B[38;5;66;03m# Handle 1-dimensional arrays\u001B[39;00m\n\u001B[1;32m   1554\u001B[0m \u001B[38;5;28;01mif\u001B[39;00m X\u001B[38;5;241m.\u001B[39mndim \u001B[38;5;241m==\u001B[39m \u001B[38;5;241m0\u001B[39m \u001B[38;5;129;01mor\u001B[39;00m X\u001B[38;5;241m.\u001B[39mndim \u001B[38;5;241m>\u001B[39m \u001B[38;5;241m2\u001B[39m:\n\u001B[0;32m-> 1555\u001B[0m     \u001B[38;5;28;01mraise\u001B[39;00m \u001B[38;5;167;01mValueError\u001B[39;00m(\n\u001B[1;32m   1556\u001B[0m         \u001B[38;5;124m\"\u001B[39m\u001B[38;5;124mExpected 1D or 2D array, got \u001B[39m\u001B[38;5;132;01m%d\u001B[39;00m\u001B[38;5;124mD array instead\u001B[39m\u001B[38;5;124m\"\u001B[39m \u001B[38;5;241m%\u001B[39m X\u001B[38;5;241m.\u001B[39mndim)\n\u001B[1;32m   1557\u001B[0m \u001B[38;5;28;01melif\u001B[39;00m X\u001B[38;5;241m.\u001B[39mndim \u001B[38;5;241m==\u001B[39m \u001B[38;5;241m1\u001B[39m:\n\u001B[1;32m   1558\u001B[0m     \u001B[38;5;66;03m# Common case -- 1d array of numbers\u001B[39;00m\n\u001B[1;32m   1559\u001B[0m     \u001B[38;5;28;01mif\u001B[39;00m X\u001B[38;5;241m.\u001B[39mdtype\u001B[38;5;241m.\u001B[39mnames \u001B[38;5;129;01mis\u001B[39;00m \u001B[38;5;28;01mNone\u001B[39;00m:\n",
      "\u001B[0;31mValueError\u001B[0m: Expected 1D or 2D array, got 3D array instead"
     ]
    }
   ],
   "source": [
    "np.savetxt('save_text.out',d)"
   ],
   "metadata": {
    "collapsed": false,
    "ExecuteTime": {
     "end_time": "2023-12-13T03:41:12.613465Z",
     "start_time": "2023-12-13T03:41:12.582555Z"
    }
   },
   "id": "68955406a51c9f35"
  },
  {
   "cell_type": "code",
   "execution_count": 20,
   "outputs": [],
   "source": [
    "import numpy as np\n",
    "\n",
    "c = np.array([[1, 2, 3, 4], [4, 5, 6, 7], [np.nan, 8, 9, 10]])\n",
    "d=c.reshape((2,3,2))\n",
    "d"
   ],
   "metadata": {
    "collapsed": false,
    "ExecuteTime": {
     "end_time": "2023-12-13T03:43:43.185250Z",
     "start_time": "2023-12-13T03:43:43.174223Z"
    }
   },
   "id": "e224af06dbe2898a"
  },
  {
   "cell_type": "code",
   "execution_count": 21,
   "outputs": [],
   "source": [
    "d.tofile('1.dat',sep=',',format='%s')"
   ],
   "metadata": {
    "collapsed": false,
    "ExecuteTime": {
     "end_time": "2023-12-13T03:44:00.798866Z",
     "start_time": "2023-12-13T03:44:00.782944Z"
    }
   },
   "id": "69e3298e322c28f6"
  },
  {
   "cell_type": "code",
   "execution_count": 23,
   "outputs": [
    {
     "name": "stdout",
     "output_type": "stream",
     "text": [
      "None\n"
     ]
    }
   ],
   "source": [
    "print(d.tofile('1.dat',sep=',',format='%s'))"
   ],
   "metadata": {
    "collapsed": false,
    "ExecuteTime": {
     "end_time": "2023-12-13T03:45:25.034539Z",
     "start_time": "2023-12-13T03:45:24.976150Z"
    }
   },
   "id": "1b30db09b4d4b191"
  },
  {
   "cell_type": "code",
   "execution_count": 27,
   "outputs": [
    {
     "name": "stdout",
     "output_type": "stream",
     "text": [
      "[ 1.  2.  3.  4.  4.  5.  6.  7. nan  8.  9. 10.]\n"
     ]
    }
   ],
   "source": [
    "print(np.fromfile('1.dat',dtype=np.float64,count=-1,sep=','))"
   ],
   "metadata": {
    "collapsed": false,
    "ExecuteTime": {
     "end_time": "2023-12-13T03:53:54.139376Z",
     "start_time": "2023-12-13T03:53:54.103426Z"
    }
   },
   "id": "5ce74fcd791ac333"
  },
  {
   "cell_type": "code",
   "execution_count": 30,
   "outputs": [
    {
     "data": {
      "text/plain": "array([[[ 1.,  2.],\n        [ 3.,  4.],\n        [ 4.,  5.]],\n\n       [[ 6.,  7.],\n        [nan,  8.],\n        [ 9., 10.]]])"
     },
     "execution_count": 30,
     "metadata": {},
     "output_type": "execute_result"
    }
   ],
   "source": [
    "np.fromfile('1.dat',dtype=np.float64,count=-1,sep=',').reshape(2,3,2)"
   ],
   "metadata": {
    "collapsed": false,
    "ExecuteTime": {
     "end_time": "2023-12-13T03:54:54.133532Z",
     "start_time": "2023-12-13T03:54:54.116256Z"
    }
   },
   "id": "e5d2ffbd8c7dbfe0"
  }
 ],
 "metadata": {
  "kernelspec": {
   "display_name": "Python 3",
   "language": "python",
   "name": "python3"
  },
  "language_info": {
   "codemirror_mode": {
    "name": "ipython",
    "version": 2
   },
   "file_extension": ".py",
   "mimetype": "text/x-python",
   "name": "python",
   "nbconvert_exporter": "python",
   "pygments_lexer": "ipython2",
   "version": "2.7.6"
  }
 },
 "nbformat": 4,
 "nbformat_minor": 5
}
