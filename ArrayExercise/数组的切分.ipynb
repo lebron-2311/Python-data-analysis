{
 "cells": [
  {
   "cell_type": "markdown",
   "source": [
    "数组的切分"
   ],
   "metadata": {
    "collapsed": false
   },
   "id": "98cd1685f53f409b"
  },
  {
   "cell_type": "code",
   "execution_count": 21,
   "outputs": [
    {
     "name": "stdout",
     "output_type": "stream",
     "text": [
      "[[ 1  2  3  4]\n",
      " [ 4  5  6  7]\n",
      " [ 7  8  9 10]]\n",
      "**********************************************************************\n",
      "[array([[1, 2, 3, 4]]), array([[4, 5, 6, 7]]), array([[ 7,  8,  9, 10]])]\n",
      "**********************************************************************\n",
      "[array([[1, 2],\n",
      "       [4, 5],\n",
      "       [7, 8]]), array([[ 3,  4],\n",
      "       [ 6,  7],\n",
      "       [ 9, 10]])]\n"
     ]
    }
   ],
   "source": [
    "import numpy as np\n",
    "c=np.array([[1,2,3,4],[4,5,6,7],[7,8,9,10]])\n",
    "print(c)\n",
    "print(\"*\"*70)\n",
    "np.vsplit(c,3)#将数组a在水平方向切成3等份\n",
    "print(np.vsplit(c,3))\n",
    "print(\"*\"*70)\n",
    "print(np.hsplit(c,2))#将数组a在垂直方向切成2等份"
   ],
   "metadata": {
    "collapsed": false,
    "ExecuteTime": {
     "end_time": "2023-12-10T03:00:51.281057Z",
     "start_time": "2023-12-10T03:00:51.275168Z"
    }
   },
   "id": "1079ddc70e62be4b"
  },
  {
   "cell_type": "markdown",
   "source": [
    "#缺失值的检测"
   ],
   "metadata": {
    "collapsed": false
   },
   "id": "fac28b147fb7d4a8"
  },
  {
   "cell_type": "code",
   "execution_count": 25,
   "outputs": [
    {
     "data": {
      "text/plain": "array([[ 1.,  2.,  3.,  4.],\n       [ 4.,  5.,  6.,  7.],\n       [nan,  8.,  9., 10.]])"
     },
     "execution_count": 25,
     "metadata": {},
     "output_type": "execute_result"
    }
   ],
   "source": [
    "import numpy as np\n",
    "c=np.array([[1,2,3,4],[4,5,6,7],[np.nan,8,9,10]])\n",
    "c"
   ],
   "metadata": {
    "collapsed": false,
    "ExecuteTime": {
     "end_time": "2023-12-10T03:06:25.911095Z",
     "start_time": "2023-12-10T03:06:25.874438Z"
    }
   },
   "id": "25d2b8d7f90081cf"
  },
  {
   "cell_type": "code",
   "execution_count": 26,
   "outputs": [
    {
     "name": "stdout",
     "output_type": "stream",
     "text": [
      "[[ 1.  2.  3.  4.]\n",
      " [ 4.  5.  6.  7.]\n",
      " [nan  8.  9. 10.]]\n"
     ]
    }
   ],
   "source": [
    "import numpy as np\n",
    "c=np.array([[1,2,3,4],[4,5,6,7],[np.nan,8,9,10]])\n",
    "print(c)"
   ],
   "metadata": {
    "collapsed": false,
    "ExecuteTime": {
     "end_time": "2023-12-10T03:06:49.418849Z",
     "start_time": "2023-12-10T03:06:49.355501Z"
    }
   },
   "id": "4f6212c68f54d468"
  },
  {
   "cell_type": "markdown",
   "source": [
    "#这个函数用来检测是不是空值nan"
   ],
   "metadata": {
    "collapsed": false
   },
   "id": "dd9d16bd1841d7de"
  },
  {
   "cell_type": "code",
   "execution_count": 27,
   "outputs": [
    {
     "data": {
      "text/plain": "array([[False, False, False, False],\n       [False, False, False, False],\n       [ True, False, False, False]])"
     },
     "execution_count": 27,
     "metadata": {},
     "output_type": "execute_result"
    }
   ],
   "source": [
    "np.isnan(c)"
   ],
   "metadata": {
    "collapsed": false,
    "ExecuteTime": {
     "end_time": "2023-12-10T03:07:38.095799Z",
     "start_time": "2023-12-10T03:07:38.014418Z"
    }
   },
   "id": "42a16623edcdf45c"
  },
  {
   "cell_type": "markdown",
   "source": [
    "#把nan替换成0"
   ],
   "metadata": {
    "collapsed": false
   },
   "id": "1a8668af1146ce71"
  },
  {
   "cell_type": "code",
   "execution_count": 28,
   "outputs": [
    {
     "data": {
      "text/plain": "array([[ 1.,  2.,  3.,  4.],\n       [ 4.,  5.,  6.,  7.],\n       [ 0.,  8.,  9., 10.]])"
     },
     "execution_count": 28,
     "metadata": {},
     "output_type": "execute_result"
    }
   ],
   "source": [
    "np.nan_to_num(c)"
   ],
   "metadata": {
    "collapsed": false,
    "ExecuteTime": {
     "end_time": "2023-12-10T03:08:33.496334Z",
     "start_time": "2023-12-10T03:08:33.469250Z"
    }
   },
   "id": "68ebd0b9e6f8637d"
  },
  {
   "cell_type": "markdown",
   "source": [
    "#删除数组的行或列"
   ],
   "metadata": {
    "collapsed": false
   },
   "id": "a67831962ab2f8ac"
  },
  {
   "cell_type": "code",
   "execution_count": 33,
   "outputs": [
    {
     "data": {
      "text/plain": "array([[1, 2],\n       [3, 4],\n       [5, 6]])"
     },
     "execution_count": 33,
     "metadata": {},
     "output_type": "execute_result"
    }
   ],
   "source": [
    "import numpy as  np\n",
    "a=np.array([[1,2],[3,4],[5,6]])\n",
    "a\n"
   ],
   "metadata": {
    "collapsed": false,
    "ExecuteTime": {
     "end_time": "2023-12-10T03:15:05.042503Z",
     "start_time": "2023-12-10T03:15:05.035187Z"
    }
   },
   "id": "3b7a185fe97997ca"
  },
  {
   "cell_type": "code",
   "execution_count": 34,
   "outputs": [
    {
     "data": {
      "text/plain": "array([[1, 2],\n       [5, 6]])"
     },
     "execution_count": 34,
     "metadata": {},
     "output_type": "execute_result"
    }
   ],
   "source": [
    "import numpy as  np\n",
    "a=np.array([[1,2],[3,4],[5,6]])\n",
    "a\n",
    "np.delete(a,1,axis=0)"
   ],
   "metadata": {
    "collapsed": false,
    "ExecuteTime": {
     "end_time": "2023-12-10T03:15:07.828220Z",
     "start_time": "2023-12-10T03:15:07.820157Z"
    }
   },
   "id": "d5496e686f26175f"
  },
  {
   "cell_type": "code",
   "execution_count": 35,
   "outputs": [
    {
     "data": {
      "text/plain": "array([[1, 2]])"
     },
     "execution_count": 35,
     "metadata": {},
     "output_type": "execute_result"
    }
   ],
   "source": [
    "import numpy as  np\n",
    "a=np.array([[1,2],[3,4],[5,6]])\n",
    "a\n",
    "np.delete(a,1,axis=0)\n",
    "np.delete(a,(1,2),0)"
   ],
   "metadata": {
    "collapsed": false,
    "ExecuteTime": {
     "end_time": "2023-12-10T03:15:37.009623Z",
     "start_time": "2023-12-10T03:15:36.985791Z"
    }
   },
   "id": "e42868858a8345f9"
  },
  {
   "cell_type": "code",
   "execution_count": 36,
   "outputs": [
    {
     "data": {
      "text/plain": "array([[1],\n       [3],\n       [5]])"
     },
     "execution_count": 36,
     "metadata": {},
     "output_type": "execute_result"
    }
   ],
   "source": [
    "import numpy as  np\n",
    "a=np.array([[1,2],[3,4],[5,6]])\n",
    "a\n",
    "np.delete(a,1,axis=1)"
   ],
   "metadata": {
    "collapsed": false,
    "ExecuteTime": {
     "end_time": "2023-12-10T03:16:20.196587Z",
     "start_time": "2023-12-10T03:16:20.163291Z"
    }
   },
   "id": "bf88c9cf74a0b91f"
  },
  {
   "cell_type": "code",
   "execution_count": 39,
   "outputs": [
    {
     "data": {
      "text/plain": "[array([[1],\n        [3],\n        [5]]),\n array([[2],\n        [4],\n        [6]])]"
     },
     "execution_count": 39,
     "metadata": {},
     "output_type": "execute_result"
    }
   ],
   "source": [
    "import numpy as  np\n",
    "a=np.array([[1,2],[3,4],[5,6]])\n",
    "a=np.split(a,2,axis=1)\n",
    "a"
   ],
   "metadata": {
    "collapsed": false,
    "ExecuteTime": {
     "end_time": "2023-12-10T03:22:10.775416Z",
     "start_time": "2023-12-10T03:22:10.760454Z"
    }
   },
   "id": "35e93036d3c529c0"
  },
  {
   "cell_type": "markdown",
   "source": [],
   "metadata": {
    "collapsed": false
   },
   "id": "888ee4062d220af0"
  }
 ],
 "metadata": {
  "kernelspec": {
   "display_name": "Python 3",
   "language": "python",
   "name": "python3"
  },
  "language_info": {
   "codemirror_mode": {
    "name": "ipython",
    "version": 2
   },
   "file_extension": ".py",
   "mimetype": "text/x-python",
   "name": "python",
   "nbconvert_exporter": "python",
   "pygments_lexer": "ipython2",
   "version": "2.7.6"
  }
 },
 "nbformat": 4,
 "nbformat_minor": 5
}
