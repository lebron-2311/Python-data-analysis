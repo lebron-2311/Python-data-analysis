{
 "cells": [
  {
   "cell_type": "markdown",
   "source": [
    "#数组的复制"
   ],
   "metadata": {
    "collapsed": false
   },
   "id": "982a77a8db9ec7c6"
  },
  {
   "cell_type": "code",
   "execution_count": 3,
   "outputs": [
    {
     "data": {
      "text/plain": "array([[1, 2],\n       [3, 4],\n       [5, 6]])"
     },
     "execution_count": 3,
     "metadata": {},
     "output_type": "execute_result"
    }
   ],
   "source": [
    "import numpy as np\n",
    "a=np.array([[1,2],[3,4],[5,6]])\n",
    "a"
   ],
   "metadata": {
    "collapsed": false,
    "ExecuteTime": {
     "end_time": "2023-12-10T03:22:01.443556Z",
     "start_time": "2023-12-10T03:22:01.420936Z"
    }
   },
   "id": "804b95382dfb372f"
  },
  {
   "cell_type": "markdown",
   "source": [
    "view是对数组a的浅复制，两个数组不同，但是数据共享\n",
    "copy是对数组a的深复制，两个数组不同，数据不共享\n"
   ],
   "metadata": {
    "collapsed": false
   },
   "id": "d387af5525718651"
  },
  {
   "cell_type": "code",
   "execution_count": 4,
   "outputs": [
    {
     "data": {
      "text/plain": "array([[1, 2],\n       [3, 4],\n       [5, 6]])"
     },
     "execution_count": 4,
     "metadata": {},
     "output_type": "execute_result"
    }
   ],
   "source": [
    "import numpy as np\n",
    "a=np.array([[1,2],[3,4],[5,6]])\n",
    "c=a.view()\n",
    "c"
   ],
   "metadata": {
    "collapsed": false,
    "ExecuteTime": {
     "end_time": "2023-12-10T03:23:00.198172Z",
     "start_time": "2023-12-10T03:23:00.174157Z"
    }
   },
   "id": "eed25db458358529"
  },
  {
   "cell_type": "code",
   "execution_count": 5,
   "outputs": [
    {
     "data": {
      "text/plain": "array([[1, 2],\n       [3, 4],\n       [5, 6]])"
     },
     "execution_count": 5,
     "metadata": {},
     "output_type": "execute_result"
    }
   ],
   "source": [
    "d=a.copy()\n",
    "d"
   ],
   "metadata": {
    "collapsed": false,
    "ExecuteTime": {
     "end_time": "2023-12-10T03:25:30.318575Z",
     "start_time": "2023-12-10T03:25:30.285462Z"
    }
   },
   "id": "a27fcbf6afac473e"
  },
  {
   "cell_type": "markdown",
   "source": [
    "#查看acd的内存地址"
   ],
   "metadata": {
    "collapsed": false
   },
   "id": "f3e84eb5fd1bc575"
  },
  {
   "cell_type": "code",
   "execution_count": 7,
   "outputs": [
    {
     "data": {
      "text/plain": "4619912176"
     },
     "execution_count": 7,
     "metadata": {},
     "output_type": "execute_result"
    }
   ],
   "source": [
    "id(a)"
   ],
   "metadata": {
    "collapsed": false,
    "ExecuteTime": {
     "end_time": "2023-12-10T03:26:43.455931Z",
     "start_time": "2023-12-10T03:26:43.446141Z"
    }
   },
   "id": "453da80eeb0bc767"
  },
  {
   "cell_type": "code",
   "execution_count": 8,
   "outputs": [
    {
     "data": {
      "text/plain": "4619912272"
     },
     "execution_count": 8,
     "metadata": {},
     "output_type": "execute_result"
    }
   ],
   "source": [
    "id(c)"
   ],
   "metadata": {
    "collapsed": false,
    "ExecuteTime": {
     "end_time": "2023-12-10T03:27:01.382130Z",
     "start_time": "2023-12-10T03:27:01.350396Z"
    }
   },
   "id": "a6922112eb049761"
  },
  {
   "cell_type": "code",
   "execution_count": 9,
   "outputs": [
    {
     "data": {
      "text/plain": "4619009648"
     },
     "execution_count": 9,
     "metadata": {},
     "output_type": "execute_result"
    }
   ],
   "source": [
    "id(d)"
   ],
   "metadata": {
    "collapsed": false,
    "ExecuteTime": {
     "end_time": "2023-12-10T03:27:04.901295Z",
     "start_time": "2023-12-10T03:27:04.891511Z"
    }
   },
   "id": "dd3609b5cea09e5e"
  },
  {
   "cell_type": "code",
   "execution_count": 10,
   "outputs": [
    {
     "data": {
      "text/plain": "array([[1, 2],\n       [0, 4],\n       [5, 6]])"
     },
     "execution_count": 10,
     "metadata": {},
     "output_type": "execute_result"
    }
   ],
   "source": [
    "a[1,0]=0\n",
    "a"
   ],
   "metadata": {
    "collapsed": false,
    "ExecuteTime": {
     "end_time": "2023-12-10T03:27:47.877666Z",
     "start_time": "2023-12-10T03:27:47.865052Z"
    }
   },
   "id": "95d2d97d205df903"
  },
  {
   "cell_type": "code",
   "execution_count": 11,
   "outputs": [
    {
     "data": {
      "text/plain": "array([[1, 2],\n       [0, 4],\n       [5, 6]])"
     },
     "execution_count": 11,
     "metadata": {},
     "output_type": "execute_result"
    }
   ],
   "source": [
    "c"
   ],
   "metadata": {
    "collapsed": false,
    "ExecuteTime": {
     "end_time": "2023-12-10T03:29:15.403792Z",
     "start_time": "2023-12-10T03:29:15.396941Z"
    }
   },
   "id": "7b479667eab027f3"
  },
  {
   "cell_type": "code",
   "execution_count": 12,
   "outputs": [
    {
     "data": {
      "text/plain": "array([[1, 2],\n       [3, 4],\n       [5, 6]])"
     },
     "execution_count": 12,
     "metadata": {},
     "output_type": "execute_result"
    }
   ],
   "source": [
    "d"
   ],
   "metadata": {
    "collapsed": false,
    "ExecuteTime": {
     "end_time": "2023-12-10T03:29:20.448861Z",
     "start_time": "2023-12-10T03:29:20.443438Z"
    }
   },
   "id": "19a1d8a5e3fd7a90"
  },
  {
   "cell_type": "code",
   "execution_count": 14,
   "outputs": [
    {
     "data": {
      "text/plain": "array([[1, 2],\n       [3, 4],\n       [5, 6]])"
     },
     "execution_count": 14,
     "metadata": {},
     "output_type": "execute_result"
    }
   ],
   "source": [
    "c[1,0]=3\n",
    "c"
   ],
   "metadata": {
    "collapsed": false,
    "ExecuteTime": {
     "end_time": "2023-12-10T03:29:51.066520Z",
     "start_time": "2023-12-10T03:29:51.059464Z"
    }
   },
   "id": "b54521cf1b9d29e6"
  },
  {
   "cell_type": "code",
   "execution_count": 15,
   "outputs": [
    {
     "data": {
      "text/plain": "array([[1, 2],\n       [3, 4],\n       [5, 6]])"
     },
     "execution_count": 15,
     "metadata": {},
     "output_type": "execute_result"
    }
   ],
   "source": [
    "a"
   ],
   "metadata": {
    "collapsed": false,
    "ExecuteTime": {
     "end_time": "2023-12-10T03:29:55.439269Z",
     "start_time": "2023-12-10T03:29:55.429939Z"
    }
   },
   "id": "86c44e52d71781ac"
  }
 ],
 "metadata": {
  "kernelspec": {
   "display_name": "Python 3",
   "language": "python",
   "name": "python3"
  },
  "language_info": {
   "codemirror_mode": {
    "name": "ipython",
    "version": 2
   },
   "file_extension": ".py",
   "mimetype": "text/x-python",
   "name": "python",
   "nbconvert_exporter": "python",
   "pygments_lexer": "ipython2",
   "version": "2.7.6"
  }
 },
 "nbformat": 4,
 "nbformat_minor": 5
}
